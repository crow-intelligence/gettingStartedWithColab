{
  "nbformat": 4,
  "nbformat_minor": 0,
  "metadata": {
    "kernelspec": {
      "display_name": "Python 3",
      "language": "python",
      "name": "python3"
    },
    "language_info": {
      "codemirror_mode": {
        "name": "ipython",
        "version": 3
      },
      "file_extension": ".py",
      "mimetype": "text/x-python",
      "name": "python",
      "nbconvert_exporter": "python",
      "pygments_lexer": "ipython3",
      "version": "3.6.5"
    },
    "colab": {
      "name": "Copy of gcn_classification.ipynb",
      "provenance": [],
      "include_colab_link": true
    }
  },
  "cells": [
    {
      "cell_type": "markdown",
      "metadata": {
        "id": "view-in-github",
        "colab_type": "text"
      },
      "source": [
        "<a href=\"https://colab.research.google.com/github/crow-intelligence/gettingStartedWithColab/blob/main/Copy_of_gcn_classification.ipynb\" target=\"_parent\"><img src=\"https://colab.research.google.com/assets/colab-badge.svg\" alt=\"Open In Colab\"/></a>"
      ]
    },
    {
      "cell_type": "markdown",
      "metadata": {
        "id": "4TTW1ML2tK4y"
      },
      "source": [
        "# Graph Convolution Network\n",
        "\n",
        "A tutorial for exercising implement graph convolution network (GCN). <br>\n",
        "We will implement the graph convolution to classify nodes in some network graph. <br>\n",
        "It is almost similar to the implementation in T. Kipf's paper \"Semi-supervised classification with graph convolutional networks\". <br>\n",
        "Refer T. Kipf's github - https://github.com/tkipf/gcn"
      ]
    },
    {
      "cell_type": "code",
      "metadata": {
        "id": "Z3VqM0PqtK4-",
        "outputId": "6f277f92-bcce-4fec-dea0-149948a4978f"
      },
      "source": [
        "import tensorflow as tf\n",
        "from IPython.display import Image"
      ],
      "execution_count": null,
      "outputs": [
        {
          "output_type": "stream",
          "text": [
            "/Users/Lulu/anaconda3/lib/python3.6/site-packages/h5py/__init__.py:36: FutureWarning: Conversion of the second argument of issubdtype from `float` to `np.floating` is deprecated. In future, it will be treated as `np.float64 == np.dtype(float).type`.\n",
            "  from ._conv import register_converters as _register_converters\n"
          ],
          "name": "stderr"
        }
      ]
    },
    {
      "cell_type": "markdown",
      "metadata": {
        "id": "ZZiN9YxRtK5K"
      },
      "source": [
        "Assume that graph inputs - adjacency matrix and node features - are given, and number of nodes and features are 50. <br>\n",
        "Therefore, the shape of node feature matrix is (batch_size, num_nodes, num_features) and adjacency matrix is (batch_size, num_nodes, num_nodes). <br> \n",
        "And the number of labels are 10."
      ]
    },
    {
      "cell_type": "code",
      "metadata": {
        "id": "wHPp076TtK5L"
      },
      "source": [
        "num_nodes = 50\n",
        "num_features = 50\n",
        "num_labels = 10\n",
        "X = tf.placeholder(tf.float64, shape=(None, num_nodes, num_features))\n",
        "A = tf.placeholder(tf.float64, shape=(None, num_nodes, num_nodes))\n",
        "Y_truth = tf.placeholder(tf.float64, shape=(None, num_labels))"
      ],
      "execution_count": null,
      "outputs": []
    },
    {
      "cell_type": "markdown",
      "metadata": {
        "id": "Yy9jdIJJtK5P"
      },
      "source": [
        "The equation of graph convolution is as below. <br>\n",
        "$$ H^{l+1} = \\sigma(AH^{l}W^{l}) $$\n",
        "We will implement this equation in function named graph_conv. The function will receive l-th node features,  adjacency matrix, and the output dimension of node features as inputs. \n",
        "\n",
        "Actually, original equation is introduced as above, which does not use bias term, in T.Kipf's paper. However, I think using bias is necessary, as below, because the bias term shifts the decision boundary. \n",
        "$$ H^{l+1} = \\sigma(A(H^{l}W^{l}+b^{l})) $$\n",
        "Therefore, I set 'use_bias=True' at a dense layer in the graph convolution."
      ]
    },
    {
      "cell_type": "code",
      "metadata": {
        "id": "VpZuQi_7tK5P"
      },
      "source": [
        "def graph_conv(_X, _A, output_dim):\n",
        "    output = tf.layers.dense(_X, units=output_dim, use_bias=True)\n",
        "    output = tf.matmul(_A, output)\n",
        "    output = tf.nn.relu(output)\n",
        "    return output"
      ],
      "execution_count": null,
      "outputs": []
    },
    {
      "cell_type": "code",
      "metadata": {
        "id": "hF5N76b3tK5T",
        "outputId": "10c46d0d-33f1-42b4-e5ee-0d8b9f072514"
      },
      "source": [
        "X_new = graph_conv(X, A, 32)\n",
        "X_new"
      ],
      "execution_count": null,
      "outputs": [
        {
          "output_type": "execute_result",
          "data": {
            "text/plain": [
              "<tf.Tensor 'Relu:0' shape=(?, 50, 32) dtype=float64>"
            ]
          },
          "metadata": {
            "tags": []
          },
          "execution_count": 4
        }
      ]
    },
    {
      "cell_type": "markdown",
      "metadata": {
        "id": "yzgwf4cotK5X"
      },
      "source": [
        "After single graph convolution, we can check that the dimension of node features is transformed from 50 to 32. <br>\n",
        "We want to build the graph convolution network with three graph convolution layers and softmax classifier, as below."
      ]
    },
    {
      "cell_type": "code",
      "metadata": {
        "id": "F4RG99vftK5X",
        "outputId": "ade03f6d-b872-454a-8e03-8f44873f3645"
      },
      "source": [
        "Image('./figures/graph_conv.jpg')"
      ],
      "execution_count": null,
      "outputs": [
        {
          "output_type": "execute_result",
          "data": {
            "image/jpeg": "[encoded data removed]",
            "text/plain": [
              "<IPython.core.display.Image object>"
            ]
          },
          "metadata": {
            "tags": []
          },
          "execution_count": 5
        }
      ]
    },
    {
      "cell_type": "code",
      "metadata": {
        "id": "pwxvvKSntK5a",
        "outputId": "36beb544-8553-451e-c321-45c87fa9784d"
      },
      "source": [
        "gconv1 = graph_conv(X, A, 32)\n",
        "gconv2 = graph_conv(gconv1, A, 32)\n",
        "gconv3 = graph_conv(gconv2, A, 32)\n",
        "Y_pred = tf.nn.softmax(tf.layers.dense(gconv3, units=num_labels, use_bias=True), axis=2)\n",
        "Y_pred"
      ],
      "execution_count": null,
      "outputs": [
        {
          "output_type": "execute_result",
          "data": {
            "text/plain": [
              "<tf.Tensor 'Reshape_1:0' shape=(?, 50, 10) dtype=float64>"
            ]
          },
          "metadata": {
            "tags": []
          },
          "execution_count": 6
        }
      ]
    },
    {
      "cell_type": "markdown",
      "metadata": {
        "id": "vtUqkHwptK5d"
      },
      "source": [
        "A shape of the final output is [batch_size, num_nodes=50, num_labels=10]. <br>\n",
        "Finally, we have to set the loss function as a cross entropy loss, because it is the classification task."
      ]
    },
    {
      "cell_type": "code",
      "metadata": {
        "id": "UX8cyysRtK5d"
      },
      "source": [
        "Y_pred = tf.reshape(Y_pred, [-1])\n",
        "loss = tf.reduce_mean(Y_truth*tf.log(Y_pred+1.**-5))"
      ],
      "execution_count": null,
      "outputs": []
    },
    {
      "cell_type": "markdown",
      "metadata": {
        "id": "KGyS_beDtK5g"
      },
      "source": [
        "Or you can use cross entropy loss variants already implemented in TensorFlow. <br>\n",
        "As usually done in supervised learning, we have to minimize the loss function. <br> \n",
        "We do not have data to train in this tutorial, so we will skip the training. "
      ]
    }
  ]
}